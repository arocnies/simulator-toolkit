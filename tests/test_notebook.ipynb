{
 "cells": [
  {
   "cell_type": "code",
   "execution_count": 1,
   "metadata": {
    "ExecuteTime": {
     "start_time": "2023-03-27T01:54:35.755486Z",
     "end_time": "2023-03-27T01:54:37.134421Z"
    }
   },
   "outputs": [],
   "source": [
    "%matplotlib notebook"
   ]
  },
  {
   "cell_type": "code",
   "execution_count": 4,
   "metadata": {
    "ExecuteTime": {
     "end_time": "2023-03-27T00:26:16.878356Z",
     "start_time": "2023-03-27T00:26:16.592320Z"
    }
   },
   "outputs": [
    {
     "ename": "ModuleNotFoundError",
     "evalue": "No module named 'quaternion'",
     "output_type": "error",
     "traceback": [
      "\u001B[0;31m---------------------------------------------------------------------------\u001B[0m",
      "\u001B[0;31mModuleNotFoundError\u001B[0m                       Traceback (most recent call last)",
      "Cell \u001B[0;32mIn[4], line 1\u001B[0m\n\u001B[0;32m----> 1\u001B[0m \u001B[38;5;28;01mfrom\u001B[39;00m \u001B[38;5;21;01msimtoolkit\u001B[39;00m \u001B[38;5;28;01mimport\u001B[39;00m Simulation\n\u001B[1;32m      2\u001B[0m \u001B[38;5;28;01mfrom\u001B[39;00m \u001B[38;5;21;01msimtoolkit\u001B[39;00m\u001B[38;5;21;01m.\u001B[39;00m\u001B[38;5;21;01mvisuals\u001B[39;00m \u001B[38;5;28;01mimport\u001B[39;00m Sphere, EntityVector, EntityOrientation\n\u001B[1;32m      3\u001B[0m \u001B[38;5;28;01mfrom\u001B[39;00m \u001B[38;5;21;01msimtoolkit\u001B[39;00m\u001B[38;5;21;01m.\u001B[39;00m\u001B[38;5;21;01mmodels\u001B[39;00m \u001B[38;5;28;01mimport\u001B[39;00m Momentum\n",
      "File \u001B[0;32m~/Projects/simulator-toolkit/simtoolkit/__init__.py:1\u001B[0m\n\u001B[0;32m----> 1\u001B[0m \u001B[38;5;28;01mfrom\u001B[39;00m \u001B[38;5;21;01m.\u001B[39;00m\u001B[38;5;21;01mhelpers\u001B[39;00m \u001B[38;5;28;01mimport\u001B[39;00m \u001B[38;5;241m*\u001B[39m\n\u001B[1;32m      2\u001B[0m \u001B[38;5;28;01mfrom\u001B[39;00m \u001B[38;5;21;01m.\u001B[39;00m\u001B[38;5;21;01mentity\u001B[39;00m \u001B[38;5;28;01mimport\u001B[39;00m Entity\n\u001B[1;32m      3\u001B[0m \u001B[38;5;28;01mfrom\u001B[39;00m \u001B[38;5;21;01m.\u001B[39;00m\u001B[38;5;21;01msimulation\u001B[39;00m \u001B[38;5;28;01mimport\u001B[39;00m Simulation\n",
      "File \u001B[0;32m~/Projects/simulator-toolkit/simtoolkit/helpers.py:2\u001B[0m\n\u001B[1;32m      1\u001B[0m \u001B[38;5;28;01mimport\u001B[39;00m \u001B[38;5;21;01mnumpy\u001B[39;00m \u001B[38;5;28;01mas\u001B[39;00m \u001B[38;5;21;01mnp\u001B[39;00m\n\u001B[0;32m----> 2\u001B[0m \u001B[38;5;28;01mfrom\u001B[39;00m \u001B[38;5;21;01m.\u001B[39;00m\u001B[38;5;21;01msimulation\u001B[39;00m \u001B[38;5;28;01mimport\u001B[39;00m Simulation\n\u001B[1;32m      3\u001B[0m \u001B[38;5;28;01mimport\u001B[39;00m \u001B[38;5;21;01mmatplotlib\u001B[39;00m\u001B[38;5;21;01m.\u001B[39;00m\u001B[38;5;21;01manimation\u001B[39;00m \u001B[38;5;28;01mas\u001B[39;00m \u001B[38;5;21;01manimation\u001B[39;00m\n\u001B[1;32m      4\u001B[0m \u001B[38;5;28;01mfrom\u001B[39;00m \u001B[38;5;21;01mIPython\u001B[39;00m\u001B[38;5;21;01m.\u001B[39;00m\u001B[38;5;21;01mdisplay\u001B[39;00m \u001B[38;5;28;01mimport\u001B[39;00m HTML\n",
      "File \u001B[0;32m~/Projects/simulator-toolkit/simtoolkit/simulation.py:2\u001B[0m\n\u001B[1;32m      1\u001B[0m \u001B[38;5;28;01mfrom\u001B[39;00m \u001B[38;5;21;01mtyping\u001B[39;00m \u001B[38;5;28;01mimport\u001B[39;00m List\n\u001B[0;32m----> 2\u001B[0m \u001B[38;5;28;01mfrom\u001B[39;00m \u001B[38;5;21;01m.\u001B[39;00m\u001B[38;5;21;01mentity\u001B[39;00m \u001B[38;5;28;01mimport\u001B[39;00m Entity\n\u001B[1;32m      3\u001B[0m \u001B[38;5;28;01mfrom\u001B[39;00m \u001B[38;5;21;01m.\u001B[39;00m\u001B[38;5;21;01mvisuals\u001B[39;00m \u001B[38;5;28;01mimport\u001B[39;00m Point\n\u001B[1;32m      4\u001B[0m \u001B[38;5;28;01mimport\u001B[39;00m \u001B[38;5;21;01mmatplotlib\u001B[39;00m\u001B[38;5;21;01m.\u001B[39;00m\u001B[38;5;21;01mpyplot\u001B[39;00m \u001B[38;5;28;01mas\u001B[39;00m \u001B[38;5;21;01mplt\u001B[39;00m\n",
      "File \u001B[0;32m~/Projects/simulator-toolkit/simtoolkit/entity.py:2\u001B[0m\n\u001B[1;32m      1\u001B[0m \u001B[38;5;28;01mimport\u001B[39;00m \u001B[38;5;21;01mnumpy\u001B[39;00m \u001B[38;5;28;01mas\u001B[39;00m \u001B[38;5;21;01mnp\u001B[39;00m\n\u001B[0;32m----> 2\u001B[0m \u001B[38;5;28;01mimport\u001B[39;00m \u001B[38;5;21;01mquaternion\u001B[39;00m\n\u001B[1;32m      5\u001B[0m \u001B[38;5;28;01mclass\u001B[39;00m \u001B[38;5;21;01mEntity\u001B[39;00m:\n\u001B[1;32m      6\u001B[0m \u001B[38;5;250m    \u001B[39m\u001B[38;5;124;03m\"\"\"\u001B[39;00m\n\u001B[1;32m      7\u001B[0m \u001B[38;5;124;03m    Entity represents an object in 6DOF space.\u001B[39;00m\n\u001B[1;32m      8\u001B[0m \u001B[38;5;124;03m    \"\"\"\u001B[39;00m\n",
      "\u001B[0;31mModuleNotFoundError\u001B[0m: No module named 'quaternion'"
     ]
    }
   ],
   "source": [
    "from simtoolkit import Simulation\n",
    "from simtoolkit.visuals import Sphere, EntityVector, EntityOrientation\n",
    "from simtoolkit.models import Momentum\n",
    "from simtoolkit.helpers import WGS84, video"
   ]
  },
  {
   "cell_type": "code",
   "execution_count": 3,
   "metadata": {
    "ExecuteTime": {
     "end_time": "2023-03-27T00:26:23.784482Z",
     "start_time": "2023-03-27T00:26:17.391874Z"
    }
   },
   "outputs": [
    {
     "ename": "NameError",
     "evalue": "name 'Simulation' is not defined",
     "output_type": "error",
     "traceback": [
      "\u001B[0;31m---------------------------------------------------------------------------\u001B[0m",
      "\u001B[0;31mNameError\u001B[0m                                 Traceback (most recent call last)",
      "Cell \u001B[0;32mIn[3], line 1\u001B[0m\n\u001B[0;32m----> 1\u001B[0m sim \u001B[38;5;241m=\u001B[39m \u001B[43mSimulation\u001B[49m()\n\u001B[1;32m      2\u001B[0m sim\u001B[38;5;241m.\u001B[39mentity(                                   \u001B[38;5;66;03m# Quick way to create & add an Entity to a simulation\u001B[39;00m\n\u001B[1;32m      3\u001B[0m     \u001B[38;5;124m\"\u001B[39m\u001B[38;5;124mearth\u001B[39m\u001B[38;5;124m\"\u001B[39m,                                  \u001B[38;5;66;03m# Position (and other vectors) default to [0, 0, 0]\u001B[39;00m\n\u001B[1;32m      4\u001B[0m     visuals\u001B[38;5;241m=\u001B[39m[Sphere(radius\u001B[38;5;241m=\u001B[39mWGS84\u001B[38;5;241m.\u001B[39mradius)]     \u001B[38;5;66;03m# Setting the 'Sphere' visual to draw a globe\u001B[39;00m\n\u001B[1;32m      5\u001B[0m )\n\u001B[1;32m      6\u001B[0m sim\u001B[38;5;241m.\u001B[39mentity(\n\u001B[1;32m      7\u001B[0m     \u001B[38;5;124m\"\u001B[39m\u001B[38;5;124msatellite\u001B[39m\u001B[38;5;124m\"\u001B[39m,                              \u001B[38;5;66;03m# Visual defaults to 'Point()', which is a red dot and label\u001B[39;00m\n\u001B[1;32m      8\u001B[0m     position\u001B[38;5;241m=\u001B[39m[\u001B[38;5;241m2\u001B[39m\u001B[38;5;241m*\u001B[39mWGS84\u001B[38;5;241m.\u001B[39mradius, \u001B[38;5;241m0\u001B[39m, \u001B[38;5;241m0\u001B[39m]           \u001B[38;5;66;03m# No models attached to this Entity--it won't move.\u001B[39;00m\n\u001B[1;32m      9\u001B[0m )\n",
      "\u001B[0;31mNameError\u001B[0m: name 'Simulation' is not defined"
     ]
    }
   ],
   "source": [
    "\n",
    "sim = Simulation()\n",
    "sim.entity(                                   # Quick way to create & add an Entity to a simulation\n",
    "    \"earth\",                                  # Position (and other vectors) default to [0, 0, 0]\n",
    "    visuals=[Sphere(radius=WGS84.radius)]     # Setting the 'Sphere' visual to draw a globe\n",
    ")\n",
    "sim.entity(\n",
    "    \"satellite\",                              # Visual defaults to 'Point()', which is a red dot and label\n",
    "    position=[2*WGS84.radius, 0, 0]           # No models attached to this Entity--it won't move.\n",
    ")\n",
    "sim.entity(\n",
    "    \"rock\",\n",
    "    position=[0, 3*WGS84.radius, -1000],\n",
    "    velocity=[25, -25, 10],                               # Vectors may be used by models (e.i. Momentum)\n",
    "    angular_velocity=[0.03, 0.03, 0],                        # Or vectors may be ignored\n",
    "    visuals=[\n",
    "        EntityVector(\"velocity\", scale=10),                         # EntityVector uses by attribute name to pick a vector\n",
    "        EntityVector(\"angular_velocity\", color='magenta'),\n",
    "        EntityOrientation(scale=2000)\n",
    "    ],\n",
    "    models=[Momentum()]                                   # Models that will update this entity\n",
    ")\n",
    "\n",
    "sim.show()                 # Renders the interactive plot\n",
    "sim.update(t=10, dt=10)    # Steps the simulation forward in time\n",
    "sim.show()                 # Must call show() to re-draw the 3D view to match the updated simulation\n",
    "video(sim, t=100, dt=10)   # Creates a video while updating a simulation\n"
   ]
  },
  {
   "cell_type": "code",
   "execution_count": null,
   "metadata": {},
   "outputs": [],
   "source": []
  }
 ],
 "metadata": {
  "kernelspec": {
   "display_name": "Python 3 (ipykernel)",
   "language": "python",
   "name": "python3"
  },
  "language_info": {
   "codemirror_mode": {
    "name": "ipython",
    "version": 3
   },
   "file_extension": ".py",
   "mimetype": "text/x-python",
   "name": "python",
   "nbconvert_exporter": "python",
   "pygments_lexer": "ipython3",
   "version": "3.9.6"
  }
 },
 "nbformat": 4,
 "nbformat_minor": 1
}
